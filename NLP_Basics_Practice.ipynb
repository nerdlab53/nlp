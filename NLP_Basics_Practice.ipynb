{
 "cells": [
  {
   "cell_type": "code",
   "execution_count": 10,
   "metadata": {},
   "outputs": [],
   "source": [
    "import matplotlib.pyplot as plt\n",
    "import random\n",
    "import re \n",
    "import string\n",
    "import nltk as nltk\n",
    "from nltk.corpus import twitter_samples\n",
    "from nltk.corpus import stopwords\n",
    "from nltk.stem import PorterStemmer\n",
    "from nltk.tokenize import TweetTokenizer"
   ]
  },
  {
   "cell_type": "code",
   "execution_count": 4,
   "metadata": {},
   "outputs": [
    {
     "name": "stderr",
     "output_type": "stream",
     "text": [
      "[nltk_data] Downloading package twitter_samples to\n",
      "[nltk_data]     /Users/himanshubhenwal/nltk_data...\n",
      "[nltk_data]   Unzipping corpora/twitter_samples.zip.\n"
     ]
    },
    {
     "data": {
      "text/plain": [
       "True"
      ]
     },
     "execution_count": 4,
     "metadata": {},
     "output_type": "execute_result"
    }
   ],
   "source": [
    "nltk.download('twitter_samples')"
   ]
  },
  {
   "cell_type": "code",
   "execution_count": 6,
   "metadata": {},
   "outputs": [],
   "source": [
    "positive_tweets = twitter_samples.strings('positive_tweets.json')\n",
    "negative_tweets = twitter_samples.strings('negative_tweets.json')"
   ]
  },
  {
   "cell_type": "code",
   "execution_count": 12,
   "metadata": {},
   "outputs": [
    {
     "name": "stdout",
     "output_type": "stream",
     "text": [
      "A positive tweet : \n",
      "\u001b[92mWho wants to elevate from your position? Who wants a promotion! Who wants the favor of God and the favor of men... :) http://t.co/cOECx9BBNd\n",
      "A negative tweet : \n",
      "\u001b[91m@KEEMSTARx yo dude. Fancy helping a fan out? I wanna grow a yt channel but can't purchase an Elgato :(\n"
     ]
    }
   ],
   "source": [
    "# A sample of a positive and negative tweet\n",
    "\n",
    "# A positive tweet \n",
    "print('A positive tweet : ')\n",
    "print('\\033[92m' + positive_tweets[random.randint(0, 5000)])\n",
    "\n",
    "# A negative tweet\n",
    "print('A negative tweet : ')\n",
    "print('\\033[91m' + negative_tweets[random.randint(0, 5000)])"
   ]
  },
  {
   "cell_type": "code",
   "execution_count": 15,
   "metadata": {},
   "outputs": [],
   "source": [
    "# Splitting the tweets into positive and negative.\n",
    "\n",
    "def split_tweets():\n",
    "    sentiments = {'positive', 'negative'}\n",
    "    negative_tweets = []\n",
    "    positive_tweets = []\n",
    "    for sentiment in sentiments:\n",
    "        if sentiment == 'positive':\n",
    "            positive_tweets = twitter_samples.strings('positive_tweets.json')\n",
    "        else : \n",
    "            negative_tweets = twitter_samples.strings('negative_tweets.json')\n",
    "    return positive_tweets, negative_tweets"
   ]
  },
  {
   "cell_type": "code",
   "execution_count": 29,
   "metadata": {},
   "outputs": [],
   "source": [
    "positive_tweets, negative_tweets = split_tweets()"
   ]
  },
  {
   "cell_type": "code",
   "execution_count": 76,
   "metadata": {},
   "outputs": [],
   "source": [
    "positive = []\n",
    "negative = []\n",
    "for tweets in positive_tweets:\n",
    "    # remove old style retweet text \"RT\"\n",
    "    new_tweet = re.sub(r'^RT[\\s]+', '', tweets)\n",
    "\n",
    "    # remove hyperlinks\n",
    "    new_tweet = re.sub(r'https?://[^\\s\\n\\r]+', '', new_tweet)\n",
    "\n",
    "    # remove hashtags\n",
    "    # only removing the hash # sign from the word\n",
    "    new_tweet = re.sub(r'#', '', new_tweet)\n",
    "    positive.append(new_tweet)\n",
    "    new_tweet = ''\n",
    "\n",
    "for tweets in negative_tweets:\n",
    "    # remove old style retweet text \"RT\"\n",
    "    new_tweet = re.sub(r'^RT[\\s]+', '', tweets)\n",
    "\n",
    "    # remove hyperlinks\n",
    "    new_tweet = re.sub(r'https?://[^\\s\\n\\r]+', '', new_tweet)\n",
    "\n",
    "    # remove hashtags\n",
    "    # only removing the hash # sign from the word\n",
    "    new_tweet = re.sub(r'#', '', new_tweet)\n",
    "    negative.append(new_tweet)\n",
    "    new_tweet = ''"
   ]
  },
  {
   "cell_type": "code",
   "execution_count": 75,
   "metadata": {},
   "outputs": [
    {
     "data": {
      "text/plain": [
       "'FollowFriday @France_Inte @PKuchly57 @Milipol_Paris for being top engaged members in my community this week :)'"
      ]
     },
     "execution_count": 75,
     "metadata": {},
     "output_type": "execute_result"
    }
   ],
   "source": [
    "positive[0]"
   ]
  },
  {
   "cell_type": "code",
   "execution_count": 77,
   "metadata": {},
   "outputs": [
    {
     "data": {
      "text/plain": [
       "'hopeless for tmr :('"
      ]
     },
     "execution_count": 77,
     "metadata": {},
     "output_type": "execute_result"
    }
   ],
   "source": [
    "negative[0]"
   ]
  },
  {
   "cell_type": "code",
   "execution_count": null,
   "metadata": {},
   "outputs": [],
   "source": [
    "def build_freqs():"
   ]
  },
  {
   "cell_type": "code",
   "execution_count": null,
   "metadata": {},
   "outputs": [],
   "source": [
    "def extract_features():"
   ]
  },
  {
   "cell_type": "code",
   "execution_count": 51,
   "metadata": {},
   "outputs": [],
   "source": [
    "# Removing hyperlinks, RT and hashes from tweets\n",
    "\n",
    "def process_tweets():\n",
    "    "
   ]
  }
 ],
 "metadata": {
  "kernelspec": {
   "display_name": "torch2",
   "language": "python",
   "name": "python3"
  },
  "language_info": {
   "codemirror_mode": {
    "name": "ipython",
    "version": 3
   },
   "file_extension": ".py",
   "mimetype": "text/x-python",
   "name": "python",
   "nbconvert_exporter": "python",
   "pygments_lexer": "ipython3",
   "version": "3.11.4 (main, Jul  5 2023, 08:54:11) [Clang 14.0.6 ]"
  },
  "orig_nbformat": 4,
  "vscode": {
   "interpreter": {
    "hash": "1372ee3f66587d5f92530a9a86a1d61ec1ed72aa144969a4dc5869fb256f5801"
   }
  }
 },
 "nbformat": 4,
 "nbformat_minor": 2
}
